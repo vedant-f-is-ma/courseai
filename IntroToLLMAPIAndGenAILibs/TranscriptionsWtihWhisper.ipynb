{
 "cells": [
  {
   "cell_type": "code",
   "execution_count": null,
   "metadata": {},
   "outputs": [
    {
     "name": "stdout",
     "output_type": "stream",
     "text": [
      "Transcription(text='Chichen Itza es impresionante, qué lástima que Maru y Miguel no hayan podido venir. Sobre todo Maru, ha estado muy estresada. Ha estado bajo mucha presión, pero sus prácticas profesionales son lo más importante en este momento. Además, creo que ya habían venido antes. Espero que acepten a Maru en el museo, es muy buena estudiante. ¿Ustedes ya habían venido antes? Sí, nuestros papás nos trajeron cuando éramos niños. ¿La pasaron bien? La verdad, Jimena y yo estábamos más interesados en jugar en la playa. Pero he querido regresar desde que leí el Chilambalam. El castillo fue construido entre el año 1000 y el 1200 después de Cristo. Es una de las Nuevas Siete Maravillas del Mundo.', logprobs=None)\n"
     ]
    }
   ],
   "source": [
    "from dotenv import load_dotenv, find_dotenv\n",
    "load_dotenv(find_dotenv(), override=True)\n",
    "\n",
    "from openai import OpenAI\n",
    "client = OpenAI()\n",
    "\n",
    "file = '/Users/vedant/Downloads/New Recording 4.m4a'\n",
    "with open(file, 'rb') as audio_file:\n",
    "    transcript = client.audio.transcriptions.create(\n",
    "        model='whisper-1',\n",
    "        file=audio_file,\n",
    "    )\n",
    "    print(transcript)"
   ]
  }
 ],
 "metadata": {
  "kernelspec": {
   "display_name": "courseai",
   "language": "python",
   "name": "python3"
  },
  "language_info": {
   "codemirror_mode": {
    "name": "ipython",
    "version": 3
   },
   "file_extension": ".py",
   "mimetype": "text/x-python",
   "name": "python",
   "nbconvert_exporter": "python",
   "pygments_lexer": "ipython3",
   "version": "3.13.3"
  }
 },
 "nbformat": 4,
 "nbformat_minor": 2
}
